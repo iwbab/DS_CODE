{
 "cells": [
  {
   "cell_type": "code",
   "execution_count": 3,
   "id": "02fbd75d",
   "metadata": {},
   "outputs": [
    {
     "name": "stdout",
     "output_type": "stream",
     "text": [
      "Initial stack\n",
      "['a', 'b', 'c']\n",
      "\n",
      "Elements popped from stack:\n",
      "c\n",
      "b\n",
      "a\n",
      "\n",
      "Stack after elements are popped:\n",
      "[]\n"
     ]
    }
   ],
   "source": [
    "# Python program to\n",
    "# demonstrate stack implementation\n",
    "# using list\n",
    "\n",
    "stack = []\n",
    "\n",
    "# append() function to push\n",
    "# element in the stack\n",
    "stack.append('a')\n",
    "stack.append('b')\n",
    "stack.append('c')\n",
    "\n",
    "print('Initial stack')\n",
    "print(stack)\n",
    "\n",
    "# pop() function to pop\n",
    "# element from stack in\n",
    "# LIFO order\n",
    "print('\\nElements popped from stack:')\n",
    "print(stack.pop())\n",
    "print(stack.pop())\n",
    "print(stack.pop())\n",
    "\n",
    "print('\\nStack after elements are popped:')\n",
    "print(stack)\n",
    "\n",
    "# uncommenting print(stack.pop())\n",
    "# will cause an IndexError\n",
    "# as the stack is now empty\n"
   ]
  },
  {
   "cell_type": "code",
   "execution_count": 5,
   "id": "971d34a6",
   "metadata": {},
   "outputs": [
    {
     "data": {
      "text/plain": [
       "'\\nA stack is a linear data structure that stores items in a Last-In/First-Out (LIFO) \\nor First-In/Last-Out (FILO) manner. \\n\\nIn stack, a new element is added at one end and an element is removed from that end only. \\nThe insert and delete operations are often called push and pop.\\n'"
      ]
     },
     "execution_count": 5,
     "metadata": {},
     "output_type": "execute_result"
    }
   ],
   "source": [
    "'''\n",
    "A stack is a linear data structure that stores items in a Last-In/First-Out (LIFO) \n",
    "or First-In/Last-Out (FILO) manner. \n",
    "\n",
    "In stack, a new element is added at one end and an element is removed from that end only. \n",
    "The insert and delete operations are often called push and pop.\n",
    "'''"
   ]
  },
  {
   "cell_type": "code",
   "execution_count": 16,
   "id": "df78ebb1",
   "metadata": {},
   "outputs": [
    {
     "name": "stdout",
     "output_type": "stream",
     "text": [
      "3\n",
      "grapes\n",
      "['apple', 'banana']\n"
     ]
    }
   ],
   "source": [
    "#normal implementation using Array and a pointer variable i\n",
    "\n",
    "\n",
    "arr = ['apple','banana','grapes']\n",
    "\n",
    "counter = len(arr)\n",
    "noEltsInArr = counter\n",
    "\n",
    "print(noEltsInArr)\n",
    "\n",
    "print(arr.pop())\n",
    "\n",
    "print(arr)"
   ]
  }
 ],
 "metadata": {
  "kernelspec": {
   "display_name": "Python 3 (ipykernel)",
   "language": "python",
   "name": "python3"
  },
  "language_info": {
   "codemirror_mode": {
    "name": "ipython",
    "version": 3
   },
   "file_extension": ".py",
   "mimetype": "text/x-python",
   "name": "python",
   "nbconvert_exporter": "python",
   "pygments_lexer": "ipython3",
   "version": "3.9.12"
  }
 },
 "nbformat": 4,
 "nbformat_minor": 5
}
